{
 "cells": [
  {
   "cell_type": "code",
   "execution_count": 8,
   "metadata": {},
   "outputs": [],
   "source": [
    "from sklearn.datasets import make_regression"
   ]
  },
  {
   "cell_type": "code",
   "execution_count": 98,
   "metadata": {},
   "outputs": [],
   "source": [
    "datax,datay = make_regression(n_features = 1 , n_samples = 5000,noise = 18)\n",
    "x = datax.reshape((-1,))\n",
    "y = datay.reshape((-1,))\n",
    "x = (datax - datax.mean())/datax.std()"
   ]
  },
  {
   "cell_type": "code",
   "execution_count": 104,
   "metadata": {},
   "outputs": [
    {
     "data": {
      "image/png": "[encoded data removed]",
      "text/plain": [
       "<Figure size 432x288 with 1 Axes>"
      ]
     },
     "metadata": {
      "needs_background": "light"
     },
     "output_type": "display_data"
    }
   ],
   "source": [
    "import numpy as np\n",
    "import matplotlib.pyplot as plt\n",
    "plt.scatter(x,y)\n",
    "plt.show()"
   ]
  },
  {
   "cell_type": "code",
   "execution_count": 109,
   "metadata": {},
   "outputs": [],
   "source": [
    "def hypothesis(x,theta):\n",
    "    return theta[0] + x*theta[1]\n",
    "\n",
    "def error(X,Y,theta):\n",
    "    e = 0;\n",
    "    for i in range(X.shape[0]):\n",
    "        e += (hypothesis(X[i],theta) - Y[i])**2\n",
    "    return e/2\n",
    "\n",
    "\n",
    "def gradient(X,Y,theta):\n",
    "    grad = np.zeros((2,))\n",
    "    for i in range(X.shape[0]):\n",
    "        grad[0] += (hypothesis(X[i],theta) - Y[i])\n",
    "        grad[1] += (hypothesis(X[i],theta) - Y[i])*X[i]\n",
    "    return grad*0.5\n",
    "\n",
    "def batch_gradient(X,Y,theta,batch_size = 100):\n",
    "    batch_grad = np.zeros((2,))\n",
    "    indices = np.arange(X.shape[0])\n",
    "    np.random.shuffle(indices)\n",
    "    indices = indices[:batch_size]\n",
    "    for i in indices:\n",
    "        batch_grad[0] = (hypothesis(X[i],theta) - Y[i])\n",
    "        batch_grad[1] = (hypothesis(X[i],theta) - Y[i])*X[i]\n",
    "    return batch_grad*0.5\n",
    "\n",
    "def gradient_descent(X,Y,learning_rate = 0.01):\n",
    "    theta_batch = np.zeros((2,))\n",
    "    theta = np.zeros((2,))\n",
    "    itr = 0\n",
    "    while(itr<150):\n",
    "        gradient_batch = batch_gradient(X,Y,theta)\n",
    "        theta_batch = theta_batch - learning_rate*gradient_batch\n",
    "        gradien = gradient(X,Y,theta)\n",
    "        theta = theta - learning_rate*gradien\n",
    "        itr+=1\n",
    "    return theta,theta_batch"
   ]
  },
  {
   "cell_type": "code",
   "execution_count": 110,
   "metadata": {},
   "outputs": [],
   "source": [
    "final_theta,final_theta_batch = gradient_descent(x,y)"
   ]
  },
  {
   "cell_type": "code",
   "execution_count": 111,
   "metadata": {},
   "outputs": [
    {
     "data": {
      "text/plain": [
       "(array([-1.77860754e+206, -3.55517150e+208]),\n",
       " array([-8.55412448e+204, -1.01593158e+205]))"
      ]
     },
     "execution_count": 111,
     "metadata": {},
     "output_type": "execute_result"
    }
   ],
   "source": [
    "final_theta,final_theta_batch"
   ]
  },
  {
   "cell_type": "code",
   "execution_count": 112,
   "metadata": {},
   "outputs": [
    {
     "data": {
      "image/png": "[encoded data removed]",
      "text/plain": [
       "<Figure size 432x288 with 1 Axes>"
      ]
     },
     "metadata": {
      "needs_background": "light"
     },
     "output_type": "display_data"
    }
   ],
   "source": [
    "def printgraph(theta):\n",
    "    xpts = np.linspace(-4,4,10)\n",
    "    ypts = hypothesis(xpts,theta)\n",
    "    \n",
    "    plt.scatter(x,y)\n",
    "    plt.scatter(xpts,ypts,color = 'black')\n",
    "    \n",
    "printgraph(final_theta)"
   ]
  },
  {
   "cell_type": "code",
   "execution_count": null,
   "metadata": {},
   "outputs": [],
   "source": []
  },
  {
   "cell_type": "code",
   "execution_count": null,
   "metadata": {},
   "outputs": [],
   "source": []
  }
 ],
 "metadata": {
  "kernelspec": {
   "display_name": "Python 3",
   "language": "python",
   "name": "python3"
  },
  "language_info": {
   "codemirror_mode": {
    "name": "ipython",
    "version": 3
   },
   "file_extension": ".py",
   "mimetype": "text/x-python",
   "name": "python",
   "nbconvert_exporter": "python",
   "pygments_lexer": "ipython3",
   "version": "3.7.6"
  }
 },
 "nbformat": 4,
 "nbformat_minor": 4
}
