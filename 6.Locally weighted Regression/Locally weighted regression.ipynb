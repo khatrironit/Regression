{
 "cells": [
  {
   "cell_type": "markdown",
   "metadata": {},
   "source": [
    "# Locally Weighted Linear Regression using closed form solution: \n",
    "        Locally weighted linear regression is a non-parametric algorithm, that is, the model does not learn a fixed set of\n",
    "        parameters as is done in ordinary linear regression.Rather parameters  are computed individually for each query\n",
    "        point.While computing , a higher “preference” is given to the points in the training set lying in the vicinity of\n",
    "        the points lying far away from . "
   ]
  },
  {
   "cell_type": "code",
   "execution_count": 120,
   "metadata": {},
   "outputs": [],
   "source": [
    "import math\n",
    "import numpy as np\n",
    "import pandas as pd\n",
    "import matplotlib.pyplot as plt\n",
    "from sklearn.datasets import make_regression"
   ]
  },
  {
   "cell_type": "code",
   "execution_count": 171,
   "metadata": {},
   "outputs": [
    {
     "name": "stdout",
     "output_type": "stream",
     "text": [
      "(100, 1) (100,)\n"
     ]
    }
   ],
   "source": [
    "x,y = make_regression(n_samples = 100,n_features = 1,noise = 12)\n",
    "print(x.shape,y.shape)"
   ]
  },
  {
   "cell_type": "code",
   "execution_count": 217,
   "metadata": {},
   "outputs": [],
   "source": [
    "#normalise\n",
    "X = (x - x.mean())/x.std()\n",
    "Y = y**3"
   ]
  },
  {
   "cell_type": "code",
   "execution_count": 218,
   "metadata": {},
   "outputs": [
    {
     "data": {
      "image/png": "[encoded data removed]",
      "text/plain": [
       "<Figure size 432x288 with 1 Axes>"
      ]
     },
     "metadata": {
      "needs_background": "light"
     },
     "output_type": "display_data"
    }
   ],
   "source": [
    "plt.scatter(X,Y)\n",
    "plt.show()"
   ]
  },
  {
   "cell_type": "code",
   "execution_count": 219,
   "metadata": {},
   "outputs": [],
   "source": [
    "ones = np.ones((X.shape[0],1))\n",
    "X1 = np.hstack((ones,X))"
   ]
  },
  {
   "cell_type": "code",
   "execution_count": 220,
   "metadata": {},
   "outputs": [],
   "source": [
    "def predict(x,theta):\n",
    "    return theta[0] + x*theta[1]\n",
    "    \n",
    "\n",
    "def weight_matrix(x,X):\n",
    "    m = X.shape[0]\n",
    "    weight = np.zeros((m,m))\n",
    "    for i in range(m):\n",
    "        answer = math.exp((-(x-X[i])**2)/(2*(0.5**2)))\n",
    "        weight[i][i] = answer\n",
    "    return weight\n",
    "#theta = (((X.T)*W*X)**-1)*((X.T)*W*Y)\n",
    "def get_theta(W,X,Y):\n",
    "    #W = np.array(weight_matrix(x,X))\n",
    "    Y = Y.reshape((-1,1))\n",
    "    Y = np.mat(Y)\n",
    "    value = np.dot(X.T,W)\n",
    "    first_value = np.dot(value,X)\n",
    "    #print(first_value.shape)\n",
    "    \n",
    "    second_value = np.dot(value,Y)\n",
    "    #print(second_value.shape)\n",
    "    \n",
    "    theta = np.linalg.pinv(first_value)*second_value\n",
    "    return theta\n",
    "    \n",
    "                "
   ]
  },
  {
   "cell_type": "code",
   "execution_count": 221,
   "metadata": {},
   "outputs": [
    {
     "name": "stdout",
     "output_type": "stream",
     "text": [
      "(100, 100)\n"
     ]
    }
   ],
   "source": [
    "W = weight_matrix(2,X)\n",
    "print(W.shape)"
   ]
  },
  {
   "cell_type": "code",
   "execution_count": 222,
   "metadata": {},
   "outputs": [
    {
     "data": {
      "text/plain": [
       "matrix([[-2412829.70825825],\n",
       "        [ 2226289.4222328 ]])"
      ]
     },
     "execution_count": 222,
     "metadata": {},
     "output_type": "execute_result"
    }
   ],
   "source": [
    "theta = get_theta(W,X1,Y)\n",
    "theta"
   ]
  },
  {
   "cell_type": "code",
   "execution_count": 223,
   "metadata": {},
   "outputs": [
    {
     "data": {
      "text/plain": [
       "matrix([[2039749.13620736]])"
      ]
     },
     "execution_count": 223,
     "metadata": {},
     "output_type": "execute_result"
    }
   ],
   "source": [
    "predict([2],theta)"
   ]
  },
  {
   "cell_type": "code",
   "execution_count": 224,
   "metadata": {},
   "outputs": [],
   "source": [
    "test = np.linspace(-2,2,10)\n",
    "results = np.zeros(test.shape[0])\n",
    "for i in range(test.shape[0]):\n",
    "    weight_array = weight_matrix(test[i],X)\n",
    "    theta_i = get_theta(weight_array,X1,Y)\n",
    "    #theta_i = np.array(theta_i)\n",
    "    results[i] = predict(test[i],theta_i)\n"
   ]
  },
  {
   "cell_type": "code",
   "execution_count": 225,
   "metadata": {},
   "outputs": [
    {
     "data": {
      "text/plain": [
       "[<matplotlib.lines.Line2D at 0x2447000d708>]"
      ]
     },
     "execution_count": 225,
     "metadata": {},
     "output_type": "execute_result"
    },
    {
     "data": {
      "image/png": "[encoded data removed]",
      "text/plain": [
       "<Figure size 432x288 with 1 Axes>"
      ]
     },
     "metadata": {
      "needs_background": "light"
     },
     "output_type": "display_data"
    }
   ],
   "source": [
    "plt.scatter(X,Y)\n",
    "plt.plot(test,results,color = 'red')"
   ]
  },
  {
   "cell_type": "code",
   "execution_count": null,
   "metadata": {},
   "outputs": [],
   "source": []
  }
 ],
 "metadata": {
  "kernelspec": {
   "display_name": "Python 3",
   "language": "python",
   "name": "python3"
  },
  "language_info": {
   "codemirror_mode": {
    "name": "ipython",
    "version": 3
   },
   "file_extension": ".py",
   "mimetype": "text/x-python",
   "name": "python",
   "nbconvert_exporter": "python",
   "pygments_lexer": "ipython3",
   "version": "3.7.6"
  }
 },
 "nbformat": 4,
 "nbformat_minor": 4
}
